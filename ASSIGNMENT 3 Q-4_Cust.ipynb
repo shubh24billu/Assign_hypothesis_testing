{
 "cells": [
  {
   "cell_type": "markdown",
   "id": "afffef80",
   "metadata": {},
   "source": [
    "# ASSIGNMENT 3 Q-4_CustomerOrderForm"
   ]
  },
  {
   "cell_type": "markdown",
   "id": "fcbc98cf",
   "metadata": {
    "ExecuteTime": {
     "end_time": "2022-07-01T13:38:13.568577Z",
     "start_time": "2022-07-01T13:38:13.556408Z"
    }
   },
   "source": [
    "TeleCall uses 4 centers around the globe to process customer order forms. They audit a certain %  of the customer order forms. Any error in order form renders it defective and has to be reworked before processing.  The manager wants to check whether the defective %  varies by centre. Please analyze the data at 5% significance level and help the manager draw appropriate inferences\n",
    "\n",
    "\n",
    "\n",
    "\n",
    "##### Null-Hypothesis.       -    H0 = customer order forms defective % does not varies by centre\n",
    "##### Alternate-Hypothesis.  -    Ha = customer order forms defective % varies by centre"
   ]
  },
  {
   "cell_type": "code",
   "execution_count": 13,
   "id": "872a9671",
   "metadata": {
    "ExecuteTime": {
     "end_time": "2022-07-01T13:39:48.498785Z",
     "start_time": "2022-07-01T13:39:48.479659Z"
    }
   },
   "outputs": [],
   "source": [
    "#importing libraries\n",
    "import pandas as pd\n",
    "import scipy \n",
    "from scipy import stats"
   ]
  },
  {
   "cell_type": "code",
   "execution_count": 17,
   "id": "35caba7f",
   "metadata": {
    "ExecuteTime": {
     "end_time": "2022-07-01T13:48:26.669910Z",
     "start_time": "2022-07-01T13:48:26.638259Z"
    }
   },
   "outputs": [
    {
     "data": {
      "text/html": [
       "<div>\n",
       "<style scoped>\n",
       "    .dataframe tbody tr th:only-of-type {\n",
       "        vertical-align: middle;\n",
       "    }\n",
       "\n",
       "    .dataframe tbody tr th {\n",
       "        vertical-align: top;\n",
       "    }\n",
       "\n",
       "    .dataframe thead th {\n",
       "        text-align: right;\n",
       "    }\n",
       "</style>\n",
       "<table border=\"1\" class=\"dataframe\">\n",
       "  <thead>\n",
       "    <tr style=\"text-align: right;\">\n",
       "      <th></th>\n",
       "      <th>Phillippines</th>\n",
       "      <th>Indonesia</th>\n",
       "      <th>Malta</th>\n",
       "      <th>India</th>\n",
       "    </tr>\n",
       "  </thead>\n",
       "  <tbody>\n",
       "    <tr>\n",
       "      <th>0</th>\n",
       "      <td>Error Free</td>\n",
       "      <td>Error Free</td>\n",
       "      <td>Defective</td>\n",
       "      <td>Error Free</td>\n",
       "    </tr>\n",
       "    <tr>\n",
       "      <th>1</th>\n",
       "      <td>Error Free</td>\n",
       "      <td>Error Free</td>\n",
       "      <td>Error Free</td>\n",
       "      <td>Defective</td>\n",
       "    </tr>\n",
       "    <tr>\n",
       "      <th>2</th>\n",
       "      <td>Error Free</td>\n",
       "      <td>Defective</td>\n",
       "      <td>Defective</td>\n",
       "      <td>Error Free</td>\n",
       "    </tr>\n",
       "    <tr>\n",
       "      <th>3</th>\n",
       "      <td>Error Free</td>\n",
       "      <td>Error Free</td>\n",
       "      <td>Error Free</td>\n",
       "      <td>Error Free</td>\n",
       "    </tr>\n",
       "    <tr>\n",
       "      <th>4</th>\n",
       "      <td>Error Free</td>\n",
       "      <td>Error Free</td>\n",
       "      <td>Defective</td>\n",
       "      <td>Error Free</td>\n",
       "    </tr>\n",
       "    <tr>\n",
       "      <th>...</th>\n",
       "      <td>...</td>\n",
       "      <td>...</td>\n",
       "      <td>...</td>\n",
       "      <td>...</td>\n",
       "    </tr>\n",
       "    <tr>\n",
       "      <th>295</th>\n",
       "      <td>Error Free</td>\n",
       "      <td>Error Free</td>\n",
       "      <td>Error Free</td>\n",
       "      <td>Error Free</td>\n",
       "    </tr>\n",
       "    <tr>\n",
       "      <th>296</th>\n",
       "      <td>Error Free</td>\n",
       "      <td>Error Free</td>\n",
       "      <td>Error Free</td>\n",
       "      <td>Error Free</td>\n",
       "    </tr>\n",
       "    <tr>\n",
       "      <th>297</th>\n",
       "      <td>Error Free</td>\n",
       "      <td>Error Free</td>\n",
       "      <td>Defective</td>\n",
       "      <td>Error Free</td>\n",
       "    </tr>\n",
       "    <tr>\n",
       "      <th>298</th>\n",
       "      <td>Error Free</td>\n",
       "      <td>Error Free</td>\n",
       "      <td>Error Free</td>\n",
       "      <td>Error Free</td>\n",
       "    </tr>\n",
       "    <tr>\n",
       "      <th>299</th>\n",
       "      <td>Error Free</td>\n",
       "      <td>Defective</td>\n",
       "      <td>Defective</td>\n",
       "      <td>Error Free</td>\n",
       "    </tr>\n",
       "  </tbody>\n",
       "</table>\n",
       "<p>300 rows × 4 columns</p>\n",
       "</div>"
      ],
      "text/plain": [
       "    Phillippines   Indonesia       Malta       India\n",
       "0     Error Free  Error Free   Defective  Error Free\n",
       "1     Error Free  Error Free  Error Free   Defective\n",
       "2     Error Free   Defective   Defective  Error Free\n",
       "3     Error Free  Error Free  Error Free  Error Free\n",
       "4     Error Free  Error Free   Defective  Error Free\n",
       "..           ...         ...         ...         ...\n",
       "295   Error Free  Error Free  Error Free  Error Free\n",
       "296   Error Free  Error Free  Error Free  Error Free\n",
       "297   Error Free  Error Free   Defective  Error Free\n",
       "298   Error Free  Error Free  Error Free  Error Free\n",
       "299   Error Free   Defective   Defective  Error Free\n",
       "\n",
       "[300 rows x 4 columns]"
      ]
     },
     "execution_count": 17,
     "metadata": {},
     "output_type": "execute_result"
    }
   ],
   "source": [
    "#Loading Dataset\n",
    "cust=pd.read_csv(\"Costomer+OrderForm.csv\")\n",
    "cust"
   ]
  },
  {
   "cell_type": "code",
   "execution_count": 19,
   "id": "ac018080",
   "metadata": {
    "ExecuteTime": {
     "end_time": "2022-07-01T13:50:03.655118Z",
     "start_time": "2022-07-01T13:50:03.643686Z"
    }
   },
   "outputs": [],
   "source": [
    "a=cust['Phillippines'].value_counts()\n",
    "b=cust['Indonesia'].value_counts()\n",
    "c=cust['Malta'].value_counts()\n",
    "d=cust['India'].value_counts()\n",
    "S1=[a[0],b[0],c[0],d[0]]\n",
    "S2=[a[1],b[1],c[1],d[1]]"
   ]
  },
  {
   "cell_type": "code",
   "execution_count": 21,
   "id": "06928e37",
   "metadata": {
    "ExecuteTime": {
     "end_time": "2022-07-01T13:50:25.156995Z",
     "start_time": "2022-07-01T13:50:25.127233Z"
    }
   },
   "outputs": [
    {
     "data": {
      "text/plain": [
       "[[29, 33, 31, 20], [271, 267, 269, 280]]"
      ]
     },
     "execution_count": 21,
     "metadata": {},
     "output_type": "execute_result"
    }
   ],
   "source": [
    "cust=[S2,S1]\n",
    "cust"
   ]
  },
  {
   "cell_type": "code",
   "execution_count": 22,
   "id": "3b8ac130",
   "metadata": {
    "ExecuteTime": {
     "end_time": "2022-07-01T13:51:09.557002Z",
     "start_time": "2022-07-01T13:51:09.546424Z"
    }
   },
   "outputs": [
    {
     "data": {
      "text/plain": [
       "(3.858960685820355,\n",
       " 0.2771020991233135,\n",
       " 3,\n",
       " array([[ 28.25,  28.25,  28.25,  28.25],\n",
       "        [271.75, 271.75, 271.75, 271.75]]))"
      ]
     },
     "execution_count": 22,
     "metadata": {},
     "output_type": "execute_result"
    }
   ],
   "source": [
    "#Chi2 contengency independence test   :  scipy.stats.chi2_contingency()\n",
    "\n",
    "Chisquares_results = scipy.stats.chi2_contingency(cust)\n",
    "Chisquares_results"
   ]
  },
  {
   "cell_type": "code",
   "execution_count": null,
   "id": "43e505fd",
   "metadata": {},
   "outputs": [],
   "source": [
    "#Result  :  P-value is Less than significance level so we accept the Null hypothesis.\n",
    "\n",
    "\n",
    "###The test shows that customer order forms defective % does not varies by centre"
   ]
  }
 ],
 "metadata": {
  "kernelspec": {
   "display_name": "Python 3 (ipykernel)",
   "language": "python",
   "name": "python3"
  },
  "language_info": {
   "codemirror_mode": {
    "name": "ipython",
    "version": 3
   },
   "file_extension": ".py",
   "mimetype": "text/x-python",
   "name": "python",
   "nbconvert_exporter": "python",
   "pygments_lexer": "ipython3",
   "version": "3.9.7"
  }
 },
 "nbformat": 4,
 "nbformat_minor": 5
}
