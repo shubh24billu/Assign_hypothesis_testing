{
 "cells": [
  {
   "cell_type": "markdown",
   "id": "b3e830bd",
   "metadata": {
    "ExecuteTime": {
     "end_time": "2022-07-01T12:30:41.206701Z",
     "start_time": "2022-07-01T12:30:41.203112Z"
    }
   },
   "source": [
    "# ASSIGNMENT 3 Q-1_cutlet\n"
   ]
  },
  {
   "cell_type": "markdown",
   "id": "be366815",
   "metadata": {
    "ExecuteTime": {
     "end_time": "2022-07-01T13:36:24.175890Z",
     "start_time": "2022-07-01T13:36:24.148516Z"
    }
   },
   "source": [
    "A F&B manager wants to determine whether there is any significant difference in the diameter of the cutlet\n",
    "between two units. A randomly selected sample of cutlets was collected from both units and measured?\n",
    "Analyze the data and draw inferences at 5% significance level. Please state the assumptions and tests that you \n",
    "carried out to check validity of the assumptions.\n",
    "\n",
    "\n",
    "\n",
    "#### Null-Hypothesis.       -    H0 = no difference in diameter.\n",
    "#### Alternate-Hypothesis.  -    Ha = there is difference in diameter."
   ]
  },
  {
   "cell_type": "code",
   "execution_count": 15,
   "id": "c78744ea",
   "metadata": {
    "ExecuteTime": {
     "end_time": "2022-07-01T12:26:10.151547Z",
     "start_time": "2022-07-01T12:26:10.139825Z"
    }
   },
   "outputs": [],
   "source": [
    "#importing libraries\n",
    "import pandas as pd\n",
    "import numpy as np\n",
    "import scipy \n",
    "from scipy import stats"
   ]
  },
  {
   "cell_type": "code",
   "execution_count": 16,
   "id": "2e34305a",
   "metadata": {
    "ExecuteTime": {
     "end_time": "2022-07-01T12:26:10.619283Z",
     "start_time": "2022-07-01T12:26:10.591957Z"
    },
    "scrolled": true
   },
   "outputs": [
    {
     "data": {
      "text/html": [
       "<div>\n",
       "<style scoped>\n",
       "    .dataframe tbody tr th:only-of-type {\n",
       "        vertical-align: middle;\n",
       "    }\n",
       "\n",
       "    .dataframe tbody tr th {\n",
       "        vertical-align: top;\n",
       "    }\n",
       "\n",
       "    .dataframe thead th {\n",
       "        text-align: right;\n",
       "    }\n",
       "</style>\n",
       "<table border=\"1\" class=\"dataframe\">\n",
       "  <thead>\n",
       "    <tr style=\"text-align: right;\">\n",
       "      <th></th>\n",
       "      <th>Unit A</th>\n",
       "      <th>Unit B</th>\n",
       "    </tr>\n",
       "  </thead>\n",
       "  <tbody>\n",
       "    <tr>\n",
       "      <th>0</th>\n",
       "      <td>6.8090</td>\n",
       "      <td>6.7703</td>\n",
       "    </tr>\n",
       "    <tr>\n",
       "      <th>1</th>\n",
       "      <td>6.4376</td>\n",
       "      <td>7.5093</td>\n",
       "    </tr>\n",
       "    <tr>\n",
       "      <th>2</th>\n",
       "      <td>6.9157</td>\n",
       "      <td>6.7300</td>\n",
       "    </tr>\n",
       "    <tr>\n",
       "      <th>3</th>\n",
       "      <td>7.3012</td>\n",
       "      <td>6.7878</td>\n",
       "    </tr>\n",
       "    <tr>\n",
       "      <th>4</th>\n",
       "      <td>7.4488</td>\n",
       "      <td>7.1522</td>\n",
       "    </tr>\n",
       "  </tbody>\n",
       "</table>\n",
       "</div>"
      ],
      "text/plain": [
       "   Unit A  Unit B\n",
       "0  6.8090  6.7703\n",
       "1  6.4376  7.5093\n",
       "2  6.9157  6.7300\n",
       "3  7.3012  6.7878\n",
       "4  7.4488  7.1522"
      ]
     },
     "execution_count": 16,
     "metadata": {},
     "output_type": "execute_result"
    }
   ],
   "source": [
    "#Loading Dataset\n",
    "cutlets=pd.read_csv(\"Cutlets.csv\")\n",
    "\n",
    "cutlets.head()"
   ]
  },
  {
   "cell_type": "code",
   "execution_count": 17,
   "id": "14af55a8",
   "metadata": {
    "ExecuteTime": {
     "end_time": "2022-07-01T12:26:11.081873Z",
     "start_time": "2022-07-01T12:26:11.029291Z"
    },
    "scrolled": true
   },
   "outputs": [],
   "source": [
    "cutlets = cutlets.rename(columns={'Unit A':'Unit_A','Unit B':'Unit_B'})"
   ]
  },
  {
   "cell_type": "code",
   "execution_count": 19,
   "id": "a8491efc",
   "metadata": {
    "ExecuteTime": {
     "end_time": "2022-07-01T12:26:17.327103Z",
     "start_time": "2022-07-01T12:26:17.299814Z"
    },
    "scrolled": true
   },
   "outputs": [
    {
     "data": {
      "text/plain": [
       "Ttest_indResult(statistic=0.7228688704678063, pvalue=0.4722394724599501)"
      ]
     },
     "execution_count": 19,
     "metadata": {},
     "output_type": "execute_result"
    }
   ],
   "source": [
    "#2-sample 2-tail ttest:   stats.ttest_ind(array1,array2) \n",
    "p_value = stats.ttest_ind(cutlets['Unit_A'],cutlets['Unit_B'])\n",
    "p_value"
   ]
  },
  {
   "cell_type": "code",
   "execution_count": 20,
   "id": "e5c4095e",
   "metadata": {
    "ExecuteTime": {
     "end_time": "2022-07-01T12:26:34.973078Z",
     "start_time": "2022-07-01T12:26:34.923454Z"
    }
   },
   "outputs": [
    {
     "data": {
      "text/plain": [
       "0.4722394724599501"
      ]
     },
     "execution_count": 20,
     "metadata": {},
     "output_type": "execute_result"
    }
   ],
   "source": [
    "#probability\n",
    "p_value[1]"
   ]
  },
  {
   "cell_type": "code",
   "execution_count": 22,
   "id": "5115e6ac",
   "metadata": {
    "ExecuteTime": {
     "end_time": "2022-07-01T12:34:42.779307Z",
     "start_time": "2022-07-01T12:34:42.771028Z"
    }
   },
   "outputs": [],
   "source": [
    "#Result  :  P-value is greater than significance level so we reject the alternate hypothesis.\n",
    "\n",
    "\n",
    "###The test shows that there is no difference in the diameter of cutlets of Unit-A and Unit-B."
   ]
  }
 ],
 "metadata": {
  "kernelspec": {
   "display_name": "Python 3 (ipykernel)",
   "language": "python",
   "name": "python3"
  },
  "language_info": {
   "codemirror_mode": {
    "name": "ipython",
    "version": 3
   },
   "file_extension": ".py",
   "mimetype": "text/x-python",
   "name": "python",
   "nbconvert_exporter": "python",
   "pygments_lexer": "ipython3",
   "version": "3.9.7"
  }
 },
 "nbformat": 4,
 "nbformat_minor": 5
}
