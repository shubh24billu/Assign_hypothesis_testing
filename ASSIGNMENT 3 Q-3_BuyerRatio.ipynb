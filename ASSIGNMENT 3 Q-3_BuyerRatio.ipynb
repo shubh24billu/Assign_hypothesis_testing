{
 "cells": [
  {
   "cell_type": "markdown",
   "id": "9a33887d",
   "metadata": {},
   "source": [
    "# ASSIGNMENT 3 Q-3_BuyerRatio"
   ]
  },
  {
   "cell_type": "markdown",
   "id": "2646f71e",
   "metadata": {
    "ExecuteTime": {
     "end_time": "2022-07-01T13:38:13.568577Z",
     "start_time": "2022-07-01T13:38:13.556408Z"
    }
   },
   "source": [
    "Sales of products in four different regions is tabulated for males and females.Find if male-female buyer ratios are similar across regions.\n",
    "\n",
    "\n",
    "\n",
    "##### Null-Hypothesis.       -    H0 = male-female buyer rations are similar across regions \n",
    "##### Alternate-Hypothesis.  -    Ha = male-female buyer rations are NOT similar across regions "
   ]
  },
  {
   "cell_type": "code",
   "execution_count": 13,
   "id": "229b16a0",
   "metadata": {
    "ExecuteTime": {
     "end_time": "2022-07-01T13:39:48.498785Z",
     "start_time": "2022-07-01T13:39:48.479659Z"
    }
   },
   "outputs": [],
   "source": [
    "#importing libraries\n",
    "import pandas as pd\n",
    "import scipy \n",
    "from scipy import stats"
   ]
  },
  {
   "cell_type": "code",
   "execution_count": 14,
   "id": "35caba7f",
   "metadata": {
    "ExecuteTime": {
     "end_time": "2022-07-01T13:39:49.546439Z",
     "start_time": "2022-07-01T13:39:49.524315Z"
    }
   },
   "outputs": [
    {
     "data": {
      "text/html": [
       "<div>\n",
       "<style scoped>\n",
       "    .dataframe tbody tr th:only-of-type {\n",
       "        vertical-align: middle;\n",
       "    }\n",
       "\n",
       "    .dataframe tbody tr th {\n",
       "        vertical-align: top;\n",
       "    }\n",
       "\n",
       "    .dataframe thead th {\n",
       "        text-align: right;\n",
       "    }\n",
       "</style>\n",
       "<table border=\"1\" class=\"dataframe\">\n",
       "  <thead>\n",
       "    <tr style=\"text-align: right;\">\n",
       "      <th></th>\n",
       "      <th>Observed Values</th>\n",
       "      <th>East</th>\n",
       "      <th>West</th>\n",
       "      <th>North</th>\n",
       "      <th>South</th>\n",
       "    </tr>\n",
       "  </thead>\n",
       "  <tbody>\n",
       "    <tr>\n",
       "      <th>0</th>\n",
       "      <td>1</td>\n",
       "      <td>50</td>\n",
       "      <td>142</td>\n",
       "      <td>131</td>\n",
       "      <td>70</td>\n",
       "    </tr>\n",
       "    <tr>\n",
       "      <th>1</th>\n",
       "      <td>0</td>\n",
       "      <td>435</td>\n",
       "      <td>1523</td>\n",
       "      <td>1356</td>\n",
       "      <td>750</td>\n",
       "    </tr>\n",
       "  </tbody>\n",
       "</table>\n",
       "</div>"
      ],
      "text/plain": [
       "   Observed Values  East  West  North  South\n",
       "0                1    50   142    131     70\n",
       "1                0   435  1523   1356    750"
      ]
     },
     "execution_count": 14,
     "metadata": {},
     "output_type": "execute_result"
    }
   ],
   "source": [
    "#Loading Dataset\n",
    "Buyer=pd.read_csv(\"BuyerRatio.csv\")\n",
    "Buyer=Buyer.replace(['Males'],1)\n",
    "Buyer=Buyer.replace(['Females'],0)\n",
    "Buyer"
   ]
  },
  {
   "cell_type": "code",
   "execution_count": 15,
   "id": "3b8ac130",
   "metadata": {
    "ExecuteTime": {
     "end_time": "2022-07-01T13:39:54.113757Z",
     "start_time": "2022-07-01T13:39:54.041022Z"
    }
   },
   "outputs": [
    {
     "data": {
      "text/plain": [
       "(11.909644416859559,\n",
       " 0.018035974243023764,\n",
       " 4,\n",
       " array([[8.83804397e-02, 4.28645132e+01, 1.47153432e+02, 1.31421714e+02,\n",
       "         7.24719605e+01],\n",
       "        [9.11619560e-01, 4.42135487e+02, 1.51784657e+03, 1.35557829e+03,\n",
       "         7.47528039e+02]]))"
      ]
     },
     "execution_count": 15,
     "metadata": {},
     "output_type": "execute_result"
    }
   ],
   "source": [
    "#Chi2 contengency independence test   :  scipy.stats.chi2_contingency()\n",
    "\n",
    "Chisquares_results = scipy.stats.chi2_contingency(Buyer)\n",
    "Chisquares_results"
   ]
  },
  {
   "cell_type": "code",
   "execution_count": null,
   "id": "43e505fd",
   "metadata": {},
   "outputs": [],
   "source": [
    "#Result  :  P-value is Less than significance level so we accept the alternate hypothesis.\n",
    "\n",
    "\n",
    "###The test shows that male-female buyer ratios are NOT similar across regions."
   ]
  }
 ],
 "metadata": {
  "kernelspec": {
   "display_name": "Python 3 (ipykernel)",
   "language": "python",
   "name": "python3"
  },
  "language_info": {
   "codemirror_mode": {
    "name": "ipython",
    "version": 3
   },
   "file_extension": ".py",
   "mimetype": "text/x-python",
   "name": "python",
   "nbconvert_exporter": "python",
   "pygments_lexer": "ipython3",
   "version": "3.9.7"
  }
 },
 "nbformat": 4,
 "nbformat_minor": 5
}
