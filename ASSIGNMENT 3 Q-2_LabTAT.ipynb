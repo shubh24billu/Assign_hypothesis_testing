{
 "cells": [
  {
   "cell_type": "markdown",
   "id": "bb0f316e",
   "metadata": {},
   "source": [
    "# ASSIGNMENT 3 Q-2_LabTAT"
   ]
  },
  {
   "cell_type": "markdown",
   "id": "40524603",
   "metadata": {},
   "source": [
    "A hospital wants to determine whether there is any difference in the average Turn Around Time (TAT) of reports of the laboratories on their preferred list. They collected a random sample and recorded TAT for reports of 4 laboratories. TAT is defined as sample collected to report dispatch.\n",
    "   \n",
    "Analyze the data and determine whether there is any difference in average TAT among the different laboratories at 5% significance level.\n",
    " \n",
    " \n",
    "##### Null-Hypothesis.           -    H0 = no difference in average TAT among the different laboratories\n",
    "##### Alternate-Hypothesis.  -    Ha = there is difference in average TAT among the different laboratories"
   ]
  },
  {
   "cell_type": "code",
   "execution_count": 1,
   "id": "489fb404",
   "metadata": {
    "ExecuteTime": {
     "end_time": "2022-07-01T13:02:16.607719Z",
     "start_time": "2022-07-01T13:02:13.142547Z"
    }
   },
   "outputs": [],
   "source": [
    "#importing libraries\n",
    "import pandas as pd\n",
    "import numpy as np\n",
    "import scipy \n",
    "from scipy import stats"
   ]
  },
  {
   "cell_type": "code",
   "execution_count": 5,
   "id": "4a017f7b",
   "metadata": {
    "ExecuteTime": {
     "end_time": "2022-07-01T13:05:59.360555Z",
     "start_time": "2022-07-01T13:05:59.338312Z"
    }
   },
   "outputs": [],
   "source": [
    "#Loading Dataset\n",
    "lab=pd.read_csv(\"LabTAT.csv\")"
   ]
  },
  {
   "cell_type": "code",
   "execution_count": 9,
   "id": "bc44f4c4",
   "metadata": {
    "ExecuteTime": {
     "end_time": "2022-07-01T13:20:42.667581Z",
     "start_time": "2022-07-01T13:20:42.644439Z"
    }
   },
   "outputs": [
    {
     "data": {
      "text/html": [
       "<div>\n",
       "<style scoped>\n",
       "    .dataframe tbody tr th:only-of-type {\n",
       "        vertical-align: middle;\n",
       "    }\n",
       "\n",
       "    .dataframe tbody tr th {\n",
       "        vertical-align: top;\n",
       "    }\n",
       "\n",
       "    .dataframe thead th {\n",
       "        text-align: right;\n",
       "    }\n",
       "</style>\n",
       "<table border=\"1\" class=\"dataframe\">\n",
       "  <thead>\n",
       "    <tr style=\"text-align: right;\">\n",
       "      <th></th>\n",
       "      <th>Laboratory 1</th>\n",
       "      <th>Laboratory 2</th>\n",
       "      <th>Laboratory 3</th>\n",
       "      <th>Laboratory 4</th>\n",
       "    </tr>\n",
       "  </thead>\n",
       "  <tbody>\n",
       "    <tr>\n",
       "      <th>0</th>\n",
       "      <td>185.35</td>\n",
       "      <td>165.53</td>\n",
       "      <td>176.70</td>\n",
       "      <td>166.13</td>\n",
       "    </tr>\n",
       "    <tr>\n",
       "      <th>1</th>\n",
       "      <td>170.49</td>\n",
       "      <td>185.91</td>\n",
       "      <td>198.45</td>\n",
       "      <td>160.79</td>\n",
       "    </tr>\n",
       "    <tr>\n",
       "      <th>2</th>\n",
       "      <td>192.77</td>\n",
       "      <td>194.92</td>\n",
       "      <td>201.23</td>\n",
       "      <td>185.18</td>\n",
       "    </tr>\n",
       "    <tr>\n",
       "      <th>3</th>\n",
       "      <td>177.33</td>\n",
       "      <td>183.00</td>\n",
       "      <td>199.61</td>\n",
       "      <td>176.42</td>\n",
       "    </tr>\n",
       "    <tr>\n",
       "      <th>4</th>\n",
       "      <td>193.41</td>\n",
       "      <td>169.57</td>\n",
       "      <td>204.63</td>\n",
       "      <td>152.60</td>\n",
       "    </tr>\n",
       "  </tbody>\n",
       "</table>\n",
       "</div>"
      ],
      "text/plain": [
       "   Laboratory 1  Laboratory 2  Laboratory 3  Laboratory 4\n",
       "0        185.35        165.53        176.70        166.13\n",
       "1        170.49        185.91        198.45        160.79\n",
       "2        192.77        194.92        201.23        185.18\n",
       "3        177.33        183.00        199.61        176.42\n",
       "4        193.41        169.57        204.63        152.60"
      ]
     },
     "execution_count": 9,
     "metadata": {},
     "output_type": "execute_result"
    }
   ],
   "source": [
    "lab.head()"
   ]
  },
  {
   "cell_type": "code",
   "execution_count": 7,
   "id": "a78e9088",
   "metadata": {
    "ExecuteTime": {
     "end_time": "2022-07-01T13:07:23.466550Z",
     "start_time": "2022-07-01T13:07:23.452694Z"
    }
   },
   "outputs": [
    {
     "data": {
      "text/plain": [
       "F_onewayResult(statistic=118.70421654401437, pvalue=2.1156708949992414e-57)"
      ]
     },
     "execution_count": 7,
     "metadata": {},
     "output_type": "execute_result"
    }
   ],
   "source": [
    "#Anova ftest statistics: Analysis of varaince between more than 2 samples or columns \n",
    "#Anova ftest statistics: stats.f_oneway(column-1,column-2,column-3,column-4)\n",
    "\n",
    "f_onewaypvalue = stats.f_oneway(lab['Laboratory 1'],lab['Laboratory 2'],lab['Laboratory 3'],lab['Laboratory 4'])\n",
    "f_onewaypvalue"
   ]
  },
  {
   "cell_type": "code",
   "execution_count": 13,
   "id": "f6fb56e6",
   "metadata": {
    "ExecuteTime": {
     "end_time": "2022-07-01T13:21:15.150214Z",
     "start_time": "2022-07-01T13:21:15.140882Z"
    }
   },
   "outputs": [
    {
     "data": {
      "text/plain": [
       "2.1156708949992414e-57"
      ]
     },
     "execution_count": 13,
     "metadata": {},
     "output_type": "execute_result"
    }
   ],
   "source": [
    "#probability\n",
    "f_onewaypvalue[1]"
   ]
  },
  {
   "cell_type": "code",
   "execution_count": null,
   "id": "38e18d74",
   "metadata": {},
   "outputs": [],
   "source": [
    "#Result  :  P-value is Less than significance level so we accept the alternate hypothesis.\n",
    "\n",
    "\n",
    "###The test shows that there is difference in average TAT among the different laboratories."
   ]
  }
 ],
 "metadata": {
  "kernelspec": {
   "display_name": "Python 3 (ipykernel)",
   "language": "python",
   "name": "python3"
  },
  "language_info": {
   "codemirror_mode": {
    "name": "ipython",
    "version": 3
   },
   "file_extension": ".py",
   "mimetype": "text/x-python",
   "name": "python",
   "nbconvert_exporter": "python",
   "pygments_lexer": "ipython3",
   "version": "3.9.7"
  }
 },
 "nbformat": 4,
 "nbformat_minor": 5
}
